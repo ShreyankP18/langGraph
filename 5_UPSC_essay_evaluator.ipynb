{
 "cells": [
  {
   "cell_type": "code",
   "execution_count": 1,
   "id": "a91d41f6",
   "metadata": {},
   "outputs": [
    {
     "name": "stderr",
     "output_type": "stream",
     "text": [
      "c:\\Users\\shrey\\Desktop\\langGraph\\myenv\\Lib\\site-packages\\tqdm\\auto.py:21: TqdmWarning: IProgress not found. Please update jupyter and ipywidgets. See https://ipywidgets.readthedocs.io/en/stable/user_install.html\n",
      "  from .autonotebook import tqdm as notebook_tqdm\n",
      "None of PyTorch, TensorFlow >= 2.0, or Flax have been found. Models won't be available and only tokenizers, configuration and file/data utilities can be used.\n"
     ]
    }
   ],
   "source": [
    "from langgraph.graph import StateGraph,START,END\n",
    "from langchain_huggingface import ChatHuggingFace,HuggingFaceEndpoint\n",
    "from langchain.output_parsers import PydanticOutputParser\n",
    "from dotenv import load_dotenv\n",
    "from typing import TypedDict,Annotated\n",
    "from pydantic import BaseModel ,Field\n",
    "\n",
    "import operator"
   ]
  },
  {
   "cell_type": "code",
   "execution_count": 8,
   "id": "9306881b",
   "metadata": {},
   "outputs": [
    {
     "data": {
      "text/plain": [
       "True"
      ]
     },
     "execution_count": 8,
     "metadata": {},
     "output_type": "execute_result"
    }
   ],
   "source": [
    "load_dotenv()"
   ]
  },
  {
   "cell_type": "code",
   "execution_count": 3,
   "id": "b3d6ffa5",
   "metadata": {},
   "outputs": [],
   "source": [
    "llm = HuggingFaceEndpoint(\n",
    "    model='Qwen/Qwen3-Next-80B-A3B-Instruct',\n",
    "    task= 'text-generation'\n",
    ")\n",
    "model = ChatHuggingFace(llm=llm)"
   ]
  },
  {
   "cell_type": "code",
   "execution_count": 4,
   "id": "fd2bac7c",
   "metadata": {},
   "outputs": [],
   "source": [
    "class EvaluationSchema(BaseModel):\n",
    "    feedback: str = Field(description = 'detailed feedback of the essay')\n",
    "    score: int = Field(description='score out of 10',ge=0,le=10)"
   ]
  },
  {
   "cell_type": "code",
   "execution_count": 5,
   "id": "952a45f7",
   "metadata": {},
   "outputs": [],
   "source": [
    "parser = PydanticOutputParser(pydantic_object=EvaluationSchema)"
   ]
  },
  {
   "cell_type": "code",
   "execution_count": 6,
   "id": "a79533cc",
   "metadata": {},
   "outputs": [],
   "source": [
    "essay = \"\"\"\n",
    "Agentic AI: An Emerging Field\n",
    "Artificial Intelligence has progressed rapidly from narrow task-specific systems to increasingly autonomous and adaptive models. One of the most promising developments in this trajectory is the rise of Agentic AI. Unlike traditional AI, which primarily acts as a tool to process inputs and generate outputs, Agentic AI is designed to operate as an autonomous agent—capable of reasoning, planning, and interacting with its environment in a more human-like way.\n",
    "Agentic AI systems are not limited to performing isolated tasks. They can set goals, decompose problems, take actions, and learn from feedback in dynamic environments. This shift makes them more powerful and versatile, particularly in domains where human-level adaptability is required, such as scientific discovery, robotics, business process automation, and personalized digital assistance. For example, an agentic AI could independently research a topic, compare sources, generate solutions, and refine its strategies based on results—all without constant human direction.\n",
    "The emergence of Agentic AI is supported by advancements in large language models, reinforcement learning, and multi-agent simulations. Researchers are exploring frameworks where these systems collaborate, negotiate, or even compete, creating new possibilities for collective intelligence. However, with these opportunities come challenges. Concerns around safety, alignment, accountability, and ethical decision-making are at the forefront of discussions. An AI that can act autonomously must also be carefully constrained to ensure that its actions remain beneficial and aligned with human values.\n",
    "In conclusion, Agentic AI represents a new stage in the evolution of artificial intelligence—moving from static tools to adaptive, goal-driven entities. While the technology is still in its early stages, its potential to transform industries and reshape human-computer interaction is immense. As research continues, balancing innovation with safety and ethical responsibility will be crucial in unlocking the benefits of this emerging field.\"\"\""
   ]
  },
  {
   "cell_type": "code",
   "execution_count": 7,
   "id": "7deafba0",
   "metadata": {},
   "outputs": [],
   "source": [
    "prompt = f\"\"\"\n",
    "Evaluate the following essay and provide detailed feedback and score.\n",
    "\n",
    "Essay:\n",
    "{essay}\n",
    "\n",
    "Return output strictly in JSON format following this schema:\n",
    "{parser.get_format_instructions()}\n",
    "\n",
    "Ensure 'score' is always numeric (integer 0-10), not words.\n",
    "\"\"\"\n",
    "\n",
    "raw_output = model.invoke(prompt)\n"
   ]
  },
  {
   "cell_type": "code",
   "execution_count": 149,
   "id": "850a2420",
   "metadata": {},
   "outputs": [
    {
     "name": "stdout",
     "output_type": "stream",
     "text": [
      "content='{\\n  \"feedback\": \"The essay provides a clear, well-structured, and thoughtful overview of Agentic AI. It effectively defines the concept by contrasting it with traditional AI, highlighting key characteristics such as autonomy, goal-setting, planning, and environmental interaction. The inclusion of concrete examples—like autonomous research and dynamic strategy refinement—strengthens the argument and enhances readability. The essay also appropriately addresses the technological enablers (LLMs, reinforcement learning, multi-agent systems) and thoughtfully acknowledges the ethical and safety challenges, demonstrating balanced critical thinking. The conclusion succinctly summarizes the significance of the field and underscores the need for responsible innovation. Minor improvements could include deeper elaboration on specific frameworks (e.g., AutoGPT, BabyAGI) or real-world pilot applications to ground the discussion further. Additionally, while the essay is logically coherent, a brief mention of current limitations or bottlenecks (e.g., computational cost, reliability in open-ended tasks) would add nuance. Overall, this is a high-quality, articulate, and insightful piece suitable for an educated non-specialist audience.\",\\n  \"score\": 9\\n}' additional_kwargs={} response_metadata={'token_usage': {'completion_tokens': 228, 'prompt_tokens': 610, 'total_tokens': 838}, 'model_name': 'Qwen/Qwen3-Next-80B-A3B-Instruct', 'system_fingerprint': '', 'finish_reason': 'stop', 'logprobs': None} id='run--daf9b812-49be-492c-b1cf-6313130e706c-0' usage_metadata={'input_tokens': 610, 'output_tokens': 228, 'total_tokens': 838}\n"
     ]
    }
   ],
   "source": [
    "print(raw_output)"
   ]
  },
  {
   "cell_type": "code",
   "execution_count": 151,
   "id": "a443e609",
   "metadata": {},
   "outputs": [],
   "source": [
    "result = parser.parse(raw_output.content)"
   ]
  },
  {
   "cell_type": "code",
   "execution_count": 152,
   "id": "cc6568e0",
   "metadata": {},
   "outputs": [
    {
     "name": "stdout",
     "output_type": "stream",
     "text": [
      "feedback='The essay provides a clear, well-structured, and thoughtful overview of Agentic AI. It effectively defines the concept by contrasting it with traditional AI, highlighting key characteristics such as autonomy, goal-setting, planning, and environmental interaction. The inclusion of concrete examples—like autonomous research and dynamic strategy refinement—strengthens the argument and enhances readability. The essay also appropriately addresses the technological enablers (LLMs, reinforcement learning, multi-agent systems) and thoughtfully acknowledges the ethical and safety challenges, demonstrating balanced critical thinking. The conclusion succinctly summarizes the significance of the field and underscores the need for responsible innovation. Minor improvements could include deeper elaboration on specific frameworks (e.g., AutoGPT, BabyAGI) or real-world pilot applications to ground the discussion further. Additionally, while the essay is logically coherent, a brief mention of current limitations or bottlenecks (e.g., computational cost, reliability in open-ended tasks) would add nuance. Overall, this is a high-quality, articulate, and insightful piece suitable for an educated non-specialist audience.' score=9\n"
     ]
    }
   ],
   "source": [
    "print(result)"
   ]
  },
  {
   "cell_type": "code",
   "execution_count": 176,
   "id": "21d1ae21",
   "metadata": {},
   "outputs": [],
   "source": [
    "class UPSCState(TypedDict):\n",
    "\n",
    "    essay: str\n",
    "    language_feedback: str\n",
    "    analysis_feedback: str\n",
    "    clarity_feedback: str\n",
    "    overall_feedback: str\n",
    "    individual_scores: Annotated[list[int], operator.add]\n",
    "    avg_score: float"
   ]
  },
  {
   "cell_type": "code",
   "execution_count": 177,
   "id": "dee32036",
   "metadata": {},
   "outputs": [],
   "source": [
    "def evaluate_language(state: UPSCState):\n",
    "    prompt = f\"\"\"\n",
    "Evaluate the language quality of the following essay and provide a feedback and assign a score out of 10 \\n {state[\"essay\"]}\n",
    "\n",
    "\n",
    "Return output strictly in JSON format following this schema:\n",
    "{parser.get_format_instructions()}\n",
    "\n",
    "Ensure 'score' is always numeric (integer 0-10), not words.\n",
    "\"\"\"\n",
    "\n",
    "    output = model.invoke(prompt)\n",
    "    result = parser.parse(output.content)\n",
    "    \n",
    "    \n",
    "\n",
    "    return {'language_feedback': result.feedback, 'individual_scores': [result.score]}"
   ]
  },
  {
   "cell_type": "code",
   "execution_count": 178,
   "id": "ca741485",
   "metadata": {},
   "outputs": [],
   "source": [
    "def evaluate_analysis(state: UPSCState):\n",
    "    prompt = f\"\"\"\n",
    "Evaluate the depth of analysis of the following essay and provide feedback and assign a score out of 10\n",
    "Essay: {state['essay']}\n",
    "\n",
    "Return output strictly in JSON format following this schema:\n",
    "{parser.get_format_instructions()}\n",
    "\n",
    "Ensure 'score' is always numeric (integer 0-10), not words.\n",
    "\"\"\"\n",
    "\n",
    "    output = model.invoke(prompt)\n",
    "    result = parser.parse(output.content)\n",
    "\n",
    "    return {\n",
    "        \"analysis_feedback\": result.feedback,\n",
    "        \"individual_scores\": [result.score]\n",
    "    }"
   ]
  },
  {
   "cell_type": "code",
   "execution_count": 179,
   "id": "9f59f09d",
   "metadata": {},
   "outputs": [],
   "source": [
    "def evaluate_thought(state):\n",
    "    prompt = f\"\"\"\n",
    "Evaluate the clarity of thought of the following essay and provide feedback and assign a score out of 10\n",
    "Essay: {state['essay']}\n",
    "\n",
    "Return output strictly in JSON format following this schema:\n",
    "{parser.get_format_instructions()}\n",
    "\n",
    "Ensure 'score' is always numeric (integer 0-10), not words.\n",
    "\"\"\"\n",
    "\n",
    "    # Invoke model\n",
    "    output = model.invoke(prompt)\n",
    "\n",
    "    # Parse structured output\n",
    "    result = parser.parse(output.content)\n",
    "\n",
    "    return {\n",
    "        \"clarity_feedback\": result.feedback,\n",
    "        \"individual_scores\": [result.score]\n",
    "    }\n"
   ]
  },
  {
   "cell_type": "code",
   "execution_count": 180,
   "id": "c6eb013e",
   "metadata": {},
   "outputs": [],
   "source": [
    "class FinalEvaluationSchema(BaseModel):\n",
    "    overall_feedback: str = Field(description=\"Summarized feedback combining all individual feedbacks\")\n",
    "    avg_score: float = Field(description=\"Average score of all individual scores (0-10)\", ge=0, le=10)\n",
    "\n",
    "#Parser\n",
    "final_parser = PydanticOutputParser(pydantic_object=FinalEvaluationSchema)\n",
    "\n",
    "def final_evaluation(state):\n",
    "    prompt = f\"\"\"\n",
    "Based on the following feedbacks, create a summarized overall feedback for the essay and provide an overall average score out of 10.\n",
    "\n",
    "Language feedback: {state['language_feedback']}\n",
    "Depth of analysis feedback: {state['analysis_feedback']}\n",
    "Clarity of thought feedback: {state['clarity_feedback']}\n",
    "\n",
    "Return output strictly in JSON format following this schema:\n",
    "{final_parser.get_format_instructions()}\n",
    "\n",
    "Ensure 'avg_score' is always numeric (float 0-10).\n",
    "\"\"\"\n",
    "\n",
    "    # Invoke model\n",
    "    output = model.invoke(prompt)\n",
    "\n",
    "    # Parse structured output\n",
    "    result = final_parser.parse(output.content)\n",
    "\n",
    "    return {\n",
    "        \"overall_feedback\": result.overall_feedback,\n",
    "        \"avg_score\": result.avg_score\n",
    "    }"
   ]
  },
  {
   "cell_type": "code",
   "execution_count": 181,
   "id": "a3e945c9",
   "metadata": {},
   "outputs": [],
   "source": [
    "graph = StateGraph(UPSCState)\n",
    "\n",
    "graph.add_node('evaluate_language', evaluate_language)\n",
    "graph.add_node('evaluate_analysis', evaluate_analysis)\n",
    "graph.add_node('evaluate_thought', evaluate_thought)\n",
    "graph.add_node('final_evaluation', final_evaluation)\n",
    "\n",
    "# edges\n",
    "graph.add_edge(START, 'evaluate_language')\n",
    "graph.add_edge(START, 'evaluate_analysis')\n",
    "graph.add_edge(START, 'evaluate_thought')\n",
    "\n",
    "graph.add_edge('evaluate_language', 'final_evaluation')\n",
    "graph.add_edge('evaluate_analysis', 'final_evaluation')\n",
    "graph.add_edge('evaluate_thought', 'final_evaluation')\n",
    "\n",
    "graph.add_edge('final_evaluation', END)\n",
    "\n",
    "workflow = graph.compile()"
   ]
  },
  {
   "cell_type": "code",
   "execution_count": 182,
   "id": "bed4bf7e",
   "metadata": {},
   "outputs": [
    {
     "data": {
      "image/png": "[encoded data removed]",
      "text/plain": [
       "<langgraph.graph.state.CompiledStateGraph object at 0x000002741EE8A7B0>"
      ]
     },
     "execution_count": 182,
     "metadata": {},
     "output_type": "execute_result"
    }
   ],
   "source": [
    "workflow"
   ]
  },
  {
   "cell_type": "code",
   "execution_count": 183,
   "id": "69ce9f18",
   "metadata": {},
   "outputs": [],
   "source": [
    "essay2 = \"\"\"India and AI Time\n",
    "\n",
    "Now world change very fast because new tech call Artificial Intel… something (AI). India also want become big in this AI thing. If work hard, India can go top. But if no careful, India go back.\n",
    "\n",
    "India have many good. We have smart student, many engine-ear, and good IT peoples. Big company like TCS, Infosys, Wipro already use AI. Government also do program “AI for All”. It want AI in farm, doctor place, school and transport.\n",
    "\n",
    "In farm, AI help farmer know when to put seed, when rain come, how stop bug. In health, AI help doctor see sick early. In school, AI help student learn good. Government office use AI to find bad people and work fast.\n",
    "\n",
    "But problem come also. First is many villager no have phone or internet. So AI not help them. Second, many people lose job because AI and machine do work. Poor people get more bad.\n",
    "\n",
    "One more big problem is privacy. AI need big big data. Who take care? India still make data rule. If no strong rule, AI do bad.\n",
    "\n",
    "India must all people together – govern, school, company and normal people. We teach AI and make sure AI not bad. Also talk to other country and learn from them.\n",
    "\n",
    "If India use AI good way, we become strong, help poor and make better life. But if only rich use AI, and poor no get, then big bad thing happen.\n",
    "\n",
    "So, in short, AI time in India have many hope and many danger. We must go right road. AI must help all people, not only some. Then India grow big and world say \"good job India\".\"\"\""
   ]
  },
  {
   "cell_type": "code",
   "execution_count": 187,
   "id": "54c96228",
   "metadata": {},
   "outputs": [],
   "source": [
    "intial_state = {\n",
    "    'essay': essay2\n",
    "}\n",
    "\n",
    "final = workflow.invoke(intial_state)\n"
   ]
  },
  {
   "cell_type": "code",
   "execution_count": 188,
   "id": "60513e26",
   "metadata": {},
   "outputs": [
    {
     "name": "stdout",
     "output_type": "stream",
     "text": [
      " Overall Feedback:\n",
      " The essay demonstrates a commendable awareness of AI's potential and challenges in India, with relevant examples across agriculture, healthcare, education, and governance. The core ideas—such as the digital divide, job displacement, data privacy, and the need for inclusive AI—are logically arranged and socially conscious. However, the expression is severely hindered by pervasive grammatical errors, informal and broken phrasing (e.g., 'big big data', 'engine-ear', 'no have phone'), inconsistent verb tenses, missing articles, and poor sentence structure. The language lacks academic tone and professionalism, reducing clarity and credibility. Analysis remains superficial, with no supporting data, scholarly references, or exploration of counterarguments, policy frameworks, or algorithmic bias. Transitions are weak, structure is underdeveloped, and the conclusion is repetitive rather than synthesizing insights. While the conceptual understanding is solid and the intent is valuable, the execution reads like an unedited draft. Significant improvement in language proficiency, vocabulary, sentence coherence, and analytical depth is required for academic or professional standards.\n",
      "\n",
      "Average Score: 4.5 / 10\n"
     ]
    }
   ],
   "source": [
    "print(\" Overall Feedback:\\n\", final[\"overall_feedback\"])\n",
    "print(\"\\nAverage Score:\", round(final[\"avg_score\"], 2), \"/ 10\")"
   ]
  },
  {
   "cell_type": "code",
   "execution_count": null,
   "id": "33421f93",
   "metadata": {},
   "outputs": [],
   "source": []
  }
 ],
 "metadata": {
  "kernelspec": {
   "display_name": "myenv",
   "language": "python",
   "name": "python3"
  },
  "language_info": {
   "codemirror_mode": {
    "name": "ipython",
    "version": 3
   },
   "file_extension": ".py",
   "mimetype": "text/x-python",
   "name": "python",
   "nbconvert_exporter": "python",
   "pygments_lexer": "ipython3",
   "version": "3.13.3"
  }
 },
 "nbformat": 4,
 "nbformat_minor": 5
}
