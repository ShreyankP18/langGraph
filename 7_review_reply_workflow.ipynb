{
 "cells": [
  {
   "cell_type": "code",
   "execution_count": 3,
   "id": "35b80016",
   "metadata": {},
   "outputs": [],
   "source": [
    "from langgraph.graph import StateGraph,START,END\n",
    "from langchain_huggingface import ChatHuggingFace,HuggingFaceEndpoint\n",
    "from typing import TypedDict,Literal\n",
    "from dotenv import load_dotenv\n",
    "from pydantic import BaseModel,Field\n",
    "from langchain.output_parsers import PydanticOutputParser"
   ]
  },
  {
   "cell_type": "code",
   "execution_count": 5,
   "id": "ed11ab40",
   "metadata": {},
   "outputs": [
    {
     "data": {
      "text/plain": [
       "True"
      ]
     },
     "execution_count": 5,
     "metadata": {},
     "output_type": "execute_result"
    }
   ],
   "source": [
    "load_dotenv()"
   ]
  },
  {
   "cell_type": "code",
   "execution_count": 6,
   "id": "07764224",
   "metadata": {},
   "outputs": [],
   "source": [
    "llm = HuggingFaceEndpoint(\n",
    "    model='Qwen/Qwen3-Next-80B-A3B-Instruct',\n",
    "    task= 'text-generation'\n",
    ")\n",
    "model = ChatHuggingFace(llm=llm)"
   ]
  },
  {
   "cell_type": "code",
   "execution_count": 7,
   "id": "bc064bd0",
   "metadata": {},
   "outputs": [],
   "source": [
    "class SentimentSchema(BaseModel):\n",
    "    sentiment: Literal['positive','negative'] = Field(description='sentiment of the review')"
   ]
  },
  {
   "cell_type": "code",
   "execution_count": 8,
   "id": "03437741",
   "metadata": {},
   "outputs": [],
   "source": [
    "parser_SentimentSchema = PydanticOutputParser(pydantic_object=SentimentSchema)"
   ]
  },
  {
   "cell_type": "code",
   "execution_count": 9,
   "id": "b3675b1e",
   "metadata": {},
   "outputs": [],
   "source": [
    "class DiagnosisSchema(BaseModel):\n",
    "    issue_type: Literal[\"UX\", \"Performance\", \"Bug\", \"Support\", \"Other\"] = Field(description='The category of issue mentioned in the review')\n",
    "    tone: Literal[\"angry\", \"frustrated\", \"disappointed\", \"calm\"] = Field(description='The emotional tone expressed by the user')\n",
    "    urgency: Literal[\"low\", \"medium\", \"high\"] = Field(description='How urgent or critical the issue appears to be')"
   ]
  },
  {
   "cell_type": "code",
   "execution_count": 10,
   "id": "5c7471e1",
   "metadata": {},
   "outputs": [],
   "source": [
    "parser_DiagnosisSchema = PydanticOutputParser(pydantic_object=DiagnosisSchema)"
   ]
  },
  {
   "cell_type": "code",
   "execution_count": 11,
   "id": "0a44f0bf",
   "metadata": {},
   "outputs": [],
   "source": [
    "#review = '\"I was really excited to upgrade to the new MacBook, but it has been a disappointing experience. The battery life is far shorter than advertised, barely lasting a full workday. Performance also lags when running multiple apps, which is frustrating given the high price. Additionally, the keyboard feels uncomfortable for long typing sessions, and the limited port selection makes connecting peripherals a hassle. Overall, I expected much more for such an expensive device and feel let down by this purchase.'"
   ]
  },
  {
   "cell_type": "code",
   "execution_count": 12,
   "id": "6366444a",
   "metadata": {},
   "outputs": [],
   "source": [
    "# prompt = f\"\"\"\n",
    "# Evaluate the sentiment of the following review and provide a detailed explanation and score.\n",
    "\n",
    "# Text:\n",
    "# {review}\n",
    "\n",
    "# Return output strictly in JSON format following this schema:\n",
    "# {parser_SentimentSchema.get_format_instructions()}\n",
    "\n",
    "# Requirements:\n",
    "# - 'sentiment' must be either \"positive\" or \"negative\".\n",
    "\n",
    "# \"\"\""
   ]
  },
  {
   "cell_type": "code",
   "execution_count": 13,
   "id": "39a102b9",
   "metadata": {},
   "outputs": [],
   "source": [
    "# raw_output = model.invoke(prompt)"
   ]
  },
  {
   "cell_type": "code",
   "execution_count": 14,
   "id": "bcc020e0",
   "metadata": {},
   "outputs": [],
   "source": [
    "# review_Analysis = parser_SentimentSchema.parse(raw_output.content)\n",
    "# print(review_Analysis.sentiment)"
   ]
  },
  {
   "cell_type": "code",
   "execution_count": 15,
   "id": "4f5a3ac7",
   "metadata": {},
   "outputs": [],
   "source": [
    "class ReviewState(TypedDict):\n",
    "    review: str\n",
    "    sentiment: Literal['positive','negative']\n",
    "    diagnosis: dict\n",
    "    response: str"
   ]
  },
  {
   "cell_type": "code",
   "execution_count": 16,
   "id": "fd5cda26",
   "metadata": {},
   "outputs": [],
   "source": [
    "def find_sentiment(state: ReviewState):\n",
    "    prompt = f\"\"\"\n",
    "for the forllowing review find out the  sentiment and  give its nature  positive or negative\\n{state['review']}\n",
    "\n",
    "Return output strictly in JSON format following this schema:\n",
    "{parser_SentimentSchema.get_format_instructions()}\n",
    "\n",
    "\"\"\"\n",
    "    raw_output = model.invoke(prompt)   \n",
    "    result = parser_SentimentSchema.parse(raw_output.content)\n",
    "\n",
    "    return {'sentiment':result.sentiment}\n"
   ]
  },
  {
   "cell_type": "code",
   "execution_count": 17,
   "id": "47cc27d4",
   "metadata": {},
   "outputs": [],
   "source": [
    "def positive_response(state: ReviewState):\n",
    "\n",
    "    prompt = f\"\"\"Write a warm thank-you message in response to this review:\n",
    "    \\n\\n\\\"{state['review']}\\\"\\n\n",
    "Also, kindly ask the user to leave feedback on our website.\n",
    "\"\"\"\n",
    "    \n",
    "    response = model.invoke(prompt).content\n",
    "\n",
    "    return {'response': response}"
   ]
  },
  {
   "cell_type": "code",
   "execution_count": 18,
   "id": "d8bc1537",
   "metadata": {},
   "outputs": [],
   "source": [
    "def run_diagnosis(state: ReviewState):\n",
    "    prompt = f\"\"\"Diagnose this negative review:\n",
    "\n",
    "{state['review']}\n",
    "\n",
    "Return issue_type, tone, and urgency.\n",
    "Return output strictly in JSON format following this schema: {parser_DiagnosisSchema.get_format_instructions()}\n",
    "\"\"\"\n",
    "    raw_output = model.invoke(prompt) \n",
    "    result = parser_DiagnosisSchema.parse(raw_output.content)\n",
    "\n",
    "    state['diagnosis'] = result.model_dump()\n",
    "    return state"
   ]
  },
  {
   "cell_type": "code",
   "execution_count": 19,
   "id": "e87c330d",
   "metadata": {},
   "outputs": [],
   "source": [
    "def negative_response(state: ReviewState):\n",
    "    diagnosis = state['diagnosis']\n",
    "\n",
    "    prompt = f\"\"\"You are a support assistant.\n",
    "The user had a '{diagnosis['issue_type']}' issue, sounded '{diagnosis['tone']}', and marked urgency as '{diagnosis['urgency']}'.\n",
    "Write an empathetic, helpful resolution message.\n",
    "\"\"\"\n",
    "    response = model.invoke(prompt).content  \n",
    "    state['response'] = response\n",
    "    return state"
   ]
  },
  {
   "cell_type": "code",
   "execution_count": 20,
   "id": "5ec47620",
   "metadata": {},
   "outputs": [],
   "source": [
    "def check_sentiment(state: ReviewState) -> Literal['positive_response','run_diagnosis']:\n",
    "    if state['sentiment']=='positive':\n",
    "        return 'positive_response'\n",
    "    \n",
    "    else:\n",
    "        return 'run_diagnosis'\n"
   ]
  },
  {
   "cell_type": "code",
   "execution_count": 21,
   "id": "31484436",
   "metadata": {},
   "outputs": [],
   "source": [
    "graph = StateGraph(ReviewState)\n",
    "\n",
    "graph.add_node('find_sentiment', find_sentiment)\n",
    "graph.add_node('positive_response', positive_response)\n",
    "graph.add_node('run_diagnosis', run_diagnosis)\n",
    "graph.add_node('negative_response', negative_response)\n",
    "\n",
    "graph.add_edge(START, 'find_sentiment')\n",
    "\n",
    "graph.add_conditional_edges('find_sentiment', check_sentiment)\n",
    "\n",
    "graph.add_edge('positive_response', END)\n",
    "\n",
    "graph.add_edge('run_diagnosis', 'negative_response')\n",
    "graph.add_edge('negative_response', END)\n",
    "\n",
    "workflow = graph.compile()"
   ]
  },
  {
   "cell_type": "code",
   "execution_count": 22,
   "id": "c5ceddfd",
   "metadata": {},
   "outputs": [
    {
     "data": {
      "image/png": "[encoded data removed]",
      "text/plain": [
       "<langgraph.graph.state.CompiledStateGraph object at 0x000001E1A2FEBE00>"
      ]
     },
     "execution_count": 22,
     "metadata": {},
     "output_type": "execute_result"
    }
   ],
   "source": [
    "workflow"
   ]
  },
  {
   "cell_type": "code",
   "execution_count": 23,
   "id": "34c2283a",
   "metadata": {},
   "outputs": [],
   "source": [
    "intial_state={\n",
    "    'review': \"I’ve been trying to log in for over an hour now, and the app keeps freezing on the authentication screen. I even tried reinstalling it, but no luck. This kind of bug is unacceptable, especially when it affects basic functionality.\"\n",
    "}\n",
    "final = workflow.invoke(intial_state)"
   ]
  },
  {
   "cell_type": "code",
   "execution_count": 24,
   "id": "202edb50",
   "metadata": {},
   "outputs": [],
   "source": [
    "def pretty_print_review(state):\n",
    "    print(\"\\n\" + \"=\"*60)\n",
    "    print(\"📝 Customer Review:\")\n",
    "    print(\"-\"*60)\n",
    "    print(state['review'])\n",
    "    \n",
    "    print(\"\\n💬 Sentiment Analysis:\")\n",
    "    print(\"-\"*60)\n",
    "    print(f\"Sentiment: {state['sentiment'].capitalize()}\")\n",
    "    \n",
    "    print(\"\\n🔍 Diagnosis:\")\n",
    "    print(\"-\"*60)\n",
    "    diagnosis = state.get('diagnosis', {})\n",
    "    print(f\"Issue Type : {diagnosis.get('issue_type', 'N/A')}\")\n",
    "    print(f\"Tone       : {diagnosis.get('tone', 'N/A')}\")\n",
    "    print(f\"Urgency    : {diagnosis.get('urgency', 'N/A')}\")\n",
    "    \n",
    "    print(\"\\n📧 Response:\")\n",
    "    print(\"-\"*60)\n",
    "    print(state.get('response', 'No response available.'))\n",
    "    print(\"=\"*60 + \"\\n\")\n",
    "\n"
   ]
  },
  {
   "cell_type": "code",
   "execution_count": 25,
   "id": "8e9d841f",
   "metadata": {},
   "outputs": [
    {
     "name": "stdout",
     "output_type": "stream",
     "text": [
      "\n",
      "============================================================\n",
      "📝 Customer Review:\n",
      "------------------------------------------------------------\n",
      "I’ve been trying to log in for over an hour now, and the app keeps freezing on the authentication screen. I even tried reinstalling it, but no luck. This kind of bug is unacceptable, especially when it affects basic functionality.\n",
      "\n",
      "💬 Sentiment Analysis:\n",
      "------------------------------------------------------------\n",
      "Sentiment: Negative\n",
      "\n",
      "🔍 Diagnosis:\n",
      "------------------------------------------------------------\n",
      "Issue Type : Bug\n",
      "Tone       : angry\n",
      "Urgency    : high\n",
      "\n",
      "📧 Response:\n",
      "------------------------------------------------------------\n",
      "I’m so sorry you’re experiencing this issue—and I completely understand why you’re frustrated. This kind of bug is not only disruptive, it’s downright unacceptable, and I truly apologize for the stress and time this has cost you.\n",
      "\n",
      "You’ve got my full attention, and I’m treating this as urgent—because you should never have to wait when something’s broken. I’ve already escalated this to our engineering team with priority status, and I’m personally tracking every step until it’s resolved.\n",
      "\n",
      "In the meantime, here’s what we can do right now:\n",
      "🔹 [Step 1: Temporary workaround, if available]  \n",
      "🔹 [Step 2: How to capture logs/screenshots to speed things up]  \n",
      "🔹 [Step 3: Direct contact info or live chat link for real-time help]\n",
      "\n",
      "I’ll follow up with you within the next 2 hours with a concrete update—no matter what. You didn’t sign up for this, and I’m committed to making it right.\n",
      "\n",
      "Thank you for speaking up. Your feedback helps us become better, and I’m genuinely grateful you gave us the chance to fix this.\n",
      "\n",
      "With sincere apologies,  \n",
      "[Your Name]  \n",
      "Customer Support Lead\n",
      "============================================================\n",
      "\n"
     ]
    }
   ],
   "source": [
    "pretty_print_review(final)"
   ]
  },
  {
   "cell_type": "code",
   "execution_count": null,
   "id": "a1017a81",
   "metadata": {},
   "outputs": [],
   "source": []
  },
  {
   "cell_type": "code",
   "execution_count": null,
   "id": "198a783f",
   "metadata": {},
   "outputs": [],
   "source": []
  }
 ],
 "metadata": {
  "kernelspec": {
   "display_name": "myenv",
   "language": "python",
   "name": "python3"
  },
  "language_info": {
   "codemirror_mode": {
    "name": "ipython",
    "version": 3
   },
   "file_extension": ".py",
   "mimetype": "text/x-python",
   "name": "python",
   "nbconvert_exporter": "python",
   "pygments_lexer": "ipython3",
   "version": "3.13.3"
  }
 },
 "nbformat": 4,
 "nbformat_minor": 5
}
