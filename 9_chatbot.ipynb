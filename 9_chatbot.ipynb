{
 "cells": [
  {
   "cell_type": "code",
   "execution_count": 113,
   "id": "1000a4ae",
   "metadata": {},
   "outputs": [],
   "source": [
    "from langgraph.graph import StateGraph,START,END\n",
    "from typing import TypedDict,Annotated\n",
    "from langchain_huggingface import HuggingFaceEndpoint,ChatHuggingFace\n",
    "from langchain_core.messages import BaseMessage , HumanMessage\n",
    "from dotenv import load_dotenv\n",
    "\n",
    "from langgraph.checkpoint.memory import MemorySaver\n"
   ]
  },
  {
   "cell_type": "code",
   "execution_count": 114,
   "id": "7a51f1da",
   "metadata": {},
   "outputs": [],
   "source": [
    "from langgraph.graph.message import add_messages\n",
    "\n",
    "class ChatState(TypedDict):\n",
    "    messages: Annotated[list[BaseMessage],add_messages]"
   ]
  },
  {
   "cell_type": "code",
   "execution_count": 115,
   "id": "844d316b",
   "metadata": {},
   "outputs": [],
   "source": [
    "load_dotenv()\n",
    "llm = HuggingFaceEndpoint(\n",
    "    repo_id='meta-llama/Llama-3.3-70B-Instruct',\n",
    "    task= 'text-generation'\n",
    ")\n",
    "model = ChatHuggingFace(llm=llm)"
   ]
  },
  {
   "cell_type": "code",
   "execution_count": 116,
   "id": "4034eaed",
   "metadata": {},
   "outputs": [],
   "source": [
    "def chat_model(state: ChatState):\n",
    "\n",
    "    #take user query from state\n",
    "    messages = state['messages']\n",
    "\n",
    "    #send to llm\n",
    "    response = model.invoke(messages)\n",
    "\n",
    "    #response store state\n",
    "    return {'messages':[response]}"
   ]
  },
  {
   "cell_type": "code",
   "execution_count": 117,
   "id": "23fe1694",
   "metadata": {},
   "outputs": [],
   "source": [
    "checkpointer = MemorySaver()\n",
    "\n",
    "graph = StateGraph(ChatState)\n",
    "\n",
    "#add node\n",
    "graph.add_node('chat_model',chat_model)\n",
    "\n",
    "graph.add_edge(START,'chat_model')\n",
    "graph.add_edge('chat_model',END)\n",
    "\n",
    "chatbot = graph.compile(checkpointer=checkpointer)\n"
   ]
  },
  {
   "cell_type": "code",
   "execution_count": 118,
   "id": "86dfbe28",
   "metadata": {},
   "outputs": [
    {
     "data": {
      "image/png": "[encoded data removed]",
      "text/plain": [
       "<langgraph.graph.state.CompiledStateGraph object at 0x0000017937DD0050>"
      ]
     },
     "execution_count": 118,
     "metadata": {},
     "output_type": "execute_result"
    }
   ],
   "source": [
    "chatbot"
   ]
  },
  {
   "cell_type": "code",
   "execution_count": 119,
   "id": "a58bb17e",
   "metadata": {},
   "outputs": [],
   "source": [
    "# intital_state = {\n",
    "#     'messages' : [HumanMessage(content='what is the capital of india')]\n",
    "# }\n",
    "# chatbot.invoke(intital_state)['messages'][-1].content\n",
    "\n"
   ]
  },
  {
   "cell_type": "code",
   "execution_count": 120,
   "id": "8f8aec72",
   "metadata": {},
   "outputs": [
    {
     "name": "stdout",
     "output_type": "stream",
     "text": [
      "user: hi\n",
      "AI: How can I help you today?\n",
      "user: my name is shreyank\n",
      "AI: Nice to meet you, Shreyank! How's your day going so far?\n",
      "user: tell me my name \n",
      "AI: Your name is Shreyank!\n",
      "user: end\n",
      "AI:bye! hope we meet soon\n"
     ]
    }
   ],
   "source": [
    "thread_id = '1';\n",
    "\n",
    "while True:\n",
    "    user_message = input('Type HERE..')\n",
    "\n",
    "    print('user:',user_message)\n",
    "\n",
    "    if(user_message.strip().lower() in ['end','quit','bye']):\n",
    "        print('AI:bye! hope we meet soon')\n",
    "        break\n",
    "\n",
    "    config = {'configurable':{'thread_id':thread_id}}\n",
    "\n",
    "    response = chatbot.invoke({'messages':[HumanMessage(content=user_message)]},config=config)\n",
    "\n",
    "    print('AI:',response['messages'][-1].content)"
   ]
  },
  {
   "cell_type": "code",
   "execution_count": null,
   "id": "ff098f13",
   "metadata": {},
   "outputs": [],
   "source": [
    "# In this chatbot, there is no concept of memory for previous data. For example,\n",
    "# if I enter my name, it doesn’t even remember it.\n",
    "\n",
    "# Basically, when the while loop is running, the chatbot is invoked every time,\n",
    "# and each time a fresh state is used for the model. \n",
    "# That’s why it has no awareness of previous interactions.\n",
    "\n",
    "# How to solve this:\n",
    "\n",
    "# To address this issue of memory and maintaining records of previous chats for any chat model,\n",
    "# we use the concept called “persistence.”\n",
    "\n",
    "# Every time the while loop runs, our model is invoked and produces output.\n",
    "# Once we reach the end of the chatbot session,\n",
    "# the previous state is lost. So, in each iteration, the state starts fresh.\n",
    "# By implementing persistence,\n",
    "# we can retain previous chat history and maintain context across multiple interactions.\n",
    "\n",
    "# The idea of persistence is that when we reach the end,\n",
    "# we don’t erase the things stored in the state,\n",
    "# and we save the terms of the previous state somewhere it could be a database or some storage.\n",
    "\n",
    "\n",
    "# for that use:\n",
    "# from langgraph.checkpoint.memory import MemorySaver"
   ]
  },
  {
   "cell_type": "code",
   "execution_count": 121,
   "id": "0a4b23f2",
   "metadata": {},
   "outputs": [
    {
     "data": {
      "text/plain": [
       "StateSnapshot(values={'messages': [HumanMessage(content='hi', additional_kwargs={}, response_metadata={}, id='33e61062-2254-49ab-8324-df7b815366b9'), AIMessage(content='How can I help you today?', additional_kwargs={}, response_metadata={'token_usage': {'completion_tokens': 8, 'prompt_tokens': 36, 'total_tokens': 44}, 'model_name': 'meta-llama/Llama-3.3-70B-Instruct', 'system_fingerprint': None, 'finish_reason': 'stop', 'logprobs': None}, id='run--45f51bba-e356-4fd1-9c81-2220700c1bda-0', usage_metadata={'input_tokens': 36, 'output_tokens': 8, 'total_tokens': 44}), HumanMessage(content='my name is shreyank', additional_kwargs={}, response_metadata={}, id='c50bf209-6556-4f47-9c84-55e1d6babb67'), AIMessage(content=\"Nice to meet you, Shreyank! How's your day going so far?\", additional_kwargs={}, response_metadata={'token_usage': {'completion_tokens': 18, 'prompt_tokens': 59, 'total_tokens': 77}, 'model_name': 'meta-llama/Llama-3.3-70B-Instruct', 'system_fingerprint': None, 'finish_reason': 'stop', 'logprobs': None}, id='run--630caffb-4cda-4e01-8904-4ff77e25a672-0', usage_metadata={'input_tokens': 59, 'output_tokens': 18, 'total_tokens': 77}), HumanMessage(content='tell me my name ', additional_kwargs={}, response_metadata={}, id='48b5215b-b0ca-4451-b953-7685c4a7d74d'), AIMessage(content='Your name is Shreyank!', additional_kwargs={}, response_metadata={'token_usage': {'completion_tokens': 8, 'prompt_tokens': 90, 'total_tokens': 98}, 'model_name': 'meta-llama/Llama-3.3-70B-Instruct', 'system_fingerprint': None, 'finish_reason': 'stop', 'logprobs': None}, id='run--8161d534-2d78-4860-885e-e69aa1862df1-0', usage_metadata={'input_tokens': 90, 'output_tokens': 8, 'total_tokens': 98})]}, next=(), config={'configurable': {'thread_id': '1', 'checkpoint_ns': '', 'checkpoint_id': '1f0a2f37-2ec5-6ddb-8007-c893bf756dee'}}, metadata={'source': 'loop', 'step': 7, 'parents': {}}, created_at='2025-10-06T20:31:33.733102+00:00', parent_config={'configurable': {'thread_id': '1', 'checkpoint_ns': '', 'checkpoint_id': '1f0a2f37-28e4-69f8-8006-7d0ea0ba1798'}}, tasks=(), interrupts=())"
      ]
     },
     "execution_count": 121,
     "metadata": {},
     "output_type": "execute_result"
    }
   ],
   "source": [
    "#to see state for the chat we did\n",
    "chatbot.get_state(config)"
   ]
  },
  {
   "cell_type": "code",
   "execution_count": null,
   "id": "95ffb075",
   "metadata": {},
   "outputs": [],
   "source": []
  }
 ],
 "metadata": {
  "kernelspec": {
   "display_name": "myenv",
   "language": "python",
   "name": "python3"
  },
  "language_info": {
   "codemirror_mode": {
    "name": "ipython",
    "version": 3
   },
   "file_extension": ".py",
   "mimetype": "text/x-python",
   "name": "python",
   "nbconvert_exporter": "python",
   "pygments_lexer": "ipython3",
   "version": "3.13.3"
  }
 },
 "nbformat": 4,
 "nbformat_minor": 5
}
