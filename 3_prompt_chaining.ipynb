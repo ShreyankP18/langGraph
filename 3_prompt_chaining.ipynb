{
 "cells": [
  {
   "cell_type": "code",
   "execution_count": 1,
   "id": "396762d5",
   "metadata": {},
   "outputs": [],
   "source": [
    "from langgraph.graph import StateGraph,START,END\n",
    "from langchain_google_genai import ChatGoogleGenerativeAI\n",
    "from dotenv import load_dotenv\n",
    "from typing import TypedDict"
   ]
  },
  {
   "cell_type": "code",
   "execution_count": 2,
   "id": "e9036ab9",
   "metadata": {},
   "outputs": [],
   "source": [
    "load_dotenv()\n",
    "\n",
    "model = ChatGoogleGenerativeAI(model='gemini-2.5-pro')"
   ]
  },
  {
   "cell_type": "code",
   "execution_count": 3,
   "id": "4f0b129e",
   "metadata": {},
   "outputs": [],
   "source": [
    "class BlogState(TypedDict):\n",
    "    title: str\n",
    "    outline: str\n",
    "    content: str\n",
    "    "
   ]
  },
  {
   "cell_type": "code",
   "execution_count": 5,
   "id": "0b652264",
   "metadata": {},
   "outputs": [],
   "source": [
    "def create_outline(state:BlogState)->BlogState:\n",
    "    #fetch title\n",
    "    title = state['title']   \n",
    "    \n",
    "    #call LLM gen outline\n",
    "    prompt = f'Generate a detailed  outline for a blog on the topic - {title}'\n",
    "    outline = model.invoke(prompt).content\n",
    "\n",
    "    #update state\n",
    "    state['outline'] = outline\n",
    "\n",
    "    return state"
   ]
  },
  {
   "cell_type": "code",
   "execution_count": 6,
   "id": "d99d157b",
   "metadata": {},
   "outputs": [],
   "source": [
    "def create_blog(state:BlogState)->BlogState:\n",
    "    title = state['title']\n",
    "    outline = state['outline']\n",
    "\n",
    "    prompt = f'write a detailed blog on the title - {title} using the following outline - {outline}'\n",
    "\n",
    "    content = model.invoke(prompt).content\n",
    "\n",
    "    state['content'] = content\n",
    "\n",
    "    return state"
   ]
  },
  {
   "cell_type": "code",
   "execution_count": 8,
   "id": "c823c3d6",
   "metadata": {},
   "outputs": [],
   "source": [
    "graph = StateGraph(BlogState)\n",
    "\n",
    "#nodes\n",
    "graph.add_node('create_outline',create_outline)\n",
    "graph.add_node('create_blog',create_blog)\n",
    "\n",
    "#edges\n",
    "graph.add_edge(START,'create_outline')\n",
    "graph.add_edge('create_outline','create_blog')\n",
    "graph.add_edge('create_blog',END)\n",
    "\n",
    "#compile\n",
    "workflow = graph.compile()\n"
   ]
  },
  {
   "cell_type": "code",
   "execution_count": 9,
   "id": "ad33265a",
   "metadata": {},
   "outputs": [
    {
     "data": {
      "image/png": "[encoded data removed]",
      "text/plain": [
       "<IPython.core.display.Image object>"
      ]
     },
     "execution_count": 9,
     "metadata": {},
     "output_type": "execute_result"
    }
   ],
   "source": [
    "#to visualize the  updated graph use \n",
    "from IPython.display import Image\n",
    "Image(workflow.get_graph().draw_mermaid_png())"
   ]
  },
  {
   "cell_type": "code",
   "execution_count": 10,
   "id": "7893d665",
   "metadata": {},
   "outputs": [
    {
     "name": "stdout",
     "output_type": "stream",
     "text": [
      "Of course! Here is a detailed blog post written based on the provided outline.\n",
      "\n",
      "---\n",
      "\n",
      "### **Beyond the Prompt: Meet Agentic AI, The Next Evolution of Intelligence**\n",
      "\n",
      "We’ve all become accustomed to the magic of modern AI. We use chatbots like ChatGPT to draft emails, summarize articles, and brainstorm ideas. We ask a question, it gives an answer. It's a powerful conversational partner. But what if, instead of just *telling* you how to plan a vacation, the AI could actually book the flights, reserve the hotel, and build a shareable itinerary for you?\n",
      "\n",
      "This is the leap from a conversation to action. It's the move from *generative AI* (a tool that responds) to *agentic AI* (an autonomous system that acts).\n",
      "\n",
      "In simple terms, **Agentic AI refers to systems designed to perceive their environment, make decisions, and take actions to achieve specific goals with minimal human intervention.** This represents a fundamental paradigm shift, moving AI from a passive assistant to a proactive collaborator. This post will explore what agentic AI is, trace its evolution, examine the current landscape, and discuss its profound implications for our future.\n",
      "\n",
      "### **Deconstructing the Agent: What Makes an AI \"Agentic\"?**\n",
      "\n",
      "Think of the difference between a dictionary and a research assistant. A dictionary is a powerful tool, but it only gives you precisely what you ask for. A research assistant, on the other hand, understands your ultimate goal—\"find sources for my paper on Roman history\"—and takes multiple, independent steps to achieve it. They'll search databases, summarize articles, and organize the findings.\n",
      "\n",
      "That's the essence of an agent. It's not just about a single response; it's about a persistent, goal-driven process. This process can be understood through its core components, which function like the famous OODA Loop (Observe, Orient, Decide, Act), but on steroids.\n",
      "\n",
      "*   **Perception:** This is how the agent takes in information. It could be reading user text, analyzing a spreadsheet, observing market data, or even seeing the world through a camera on a robot.\n",
      "*   **Reasoning & Planning:** This is the \"brain\" of the agent. It takes a complex, high-level goal (e.g., \"plan my trip\") and breaks it down into a sequence of smaller, manageable steps. This process is often powered by advanced prompting techniques like **Chain-of-Thought**, where the AI \"thinks out loud\" to reason through a problem, or **Tree of Thoughts**, where it explores multiple possible plans simultaneously.\n",
      "*   **Action:** This is where the agent interacts with its environment to execute its plan. This isn't just generating text; it's:\n",
      "    *   **Using Tools:** Calling APIs to book a flight, browsing the web for information, running code to analyze data, or accessing a corporate database.\n",
      "    *   **Communicating:** Asking you for clarification (\"Is a morning flight okay?\"), reporting its progress, or even collaborating with other AI agents.\n",
      "    *   **Physical Actions:** For embodied agents, this could mean moving a robotic arm, driving a vehicle, or adjusting a thermostat.\n",
      "*   **Memory & Learning:** To be effective, an agent must remember what it has done, learn from its successes and failures, and adapt. This includes short-term \"scratchpad\" memory for the current task and long-term memory to improve its strategies over time.\n",
      "\n",
      "### **The Three Waves of Evolution: A Brief History of Agentic AI**\n",
      "\n",
      "Agentic AI isn't a brand-new concept; it's the culmination of decades of research. We can understand its journey as an \"evolving field\" by looking at three distinct waves.\n",
      "\n",
      "#### **Wave 1: The Programmed Agents (The Rule-Followers)**\n",
      "\n",
      "*   **Era:** 1960s - 1990s (Symbolic AI / GOFAI - \"Good Old-Fashioned AI\")\n",
      "*   **Characteristics:** These early agents operated on hand-coded rules and logic. A programmer had to explicitly define every possible action for every possible situation. They were deterministic, powerful in their narrow domain, but brittle—they broke down completely when faced with something they hadn't been programmed for.\n",
      "*   **Examples:** Early chess programs, simple non-player characters (NPCs) in video games that follow a set path, and basic factory automation bots.\n",
      "\n",
      "#### **Wave 2: The Learning Agents (The Specialists)**\n",
      "\n",
      "*   **Era:** 2000s - early 2020s (Machine Learning & Reinforcement Learning)\n",
      "*   **Characteristics:** This wave introduced agents that could learn optimal strategies through trial and error. By being rewarded for good outcomes and penalized for bad ones in a specific environment, they could achieve superhuman performance. However, they were specialists, lacking general reasoning or the ability to transfer their skills to other tasks.\n",
      "*   **Examples:** DeepMind's AlphaGo, which mastered the game of Go; sophisticated recommendation algorithms that learn your preferences; and high-frequency trading bots that execute trades based on learned market patterns.\n",
      "\n",
      "#### **Wave 3: The Autonomous Reasoners (The Generalists)**\n",
      "\n",
      "*   **Era:** Present Day (Powered by Large Language Models)\n",
      "*   **Characteristics:** Today's agents leverage the vast world knowledge and flexible reasoning capabilities of LLMs. This allows them to tackle complex, open-ended tasks in messy, real-world environments. They can understand ambiguous goals, plan on the fly, self-correct when they make a mistake, and use a wide array of digital tools.\n",
      "*   **Examples:** Experimental frameworks like Auto-GPT and BabyAGI, developer platforms like LangChain Agents and CrewAI, and emerging AI software engineers like Devin.\n",
      "\n",
      "### **The Current Frontier: The Agentic Ecosystem Today**\n",
      "\n",
      "The recent explosion in agentic AI is driven by one key innovation: the use of LLMs as a **\"reasoning engine.\"** The LLM provides the crucial planning and natural language understanding component that was missing from previous waves, acting as the central \"brain\" that directs the other components.\n",
      "\n",
      "Several key concepts and frameworks are pushing the field forward:\n",
      "\n",
      "*   **ReAct (Reason + Act):** This foundational paper demonstrated a simple but powerful idea: prompt an LLM to explicitly verbalize its reasoning about what to do next (Reason), and then prompt it to generate the action to take (Act). This loop of thinking and doing is at the heart of most modern agents.\n",
      "*   **Agentic Frameworks (LangChain, LlamaIndex, CrewAI):** These are toolkits that make it much easier for developers to build powerful agents. They provide pre-built modules for connecting agents to tools (like Google Search or a calculator), managing memory, and orchestrating complex plans.\n",
      "*   **Multi-Agent Systems:** Why have one agent when you can have a team? This approach involves creating specialized AI agents that collaborate to solve a problem. For example, a \"Researcher\" agent could find information, pass it to a \"Writer\" agent to draft a report, which is then reviewed and improved by a \"Critic\" agent.\n",
      "\n",
      "#### **A Concrete Example in Action**\n",
      "\n",
      "Let's revisit the vacation planner. If you gave an agent the goal: **\"Research the best noise-canceling headphones under $300 and create a comparison table for me,\"** here's how it might work:\n",
      "\n",
      "1.  **`[Reasoning]`:** The user wants a comparison table of headphones under $300. My first step is to find reliable reviews.\n",
      "2.  **`[Action]`:** Use the `Search` tool with the query: \"best noise canceling headphones 2024 reviews.\"\n",
      "3.  **`[Perception]`:** I've analyzed the search results from several tech websites. The top models mentioned are Sony WH-1000XM4, Bose QC45, and Anker Soundcore Q45.\n",
      "4.  **`[Reasoning]`:** Now I need to extract key features and confirm prices for these models. I'll check retail sites.\n",
      "5.  **`[Action]`:** Use the `WebBrowser` tool to visit Amazon and Best Buy pages for each model.\n",
      "6.  **`[Perception]`:** I've gathered the data: Sony is $278, Bose is $279, Anker is $129. I have data on battery life, ANC quality, and connectivity.\n",
      "7.  **`[Reasoning]`:** All models are under the $300 limit. I have enough information to create the table.\n",
      "8.  **`[Action]`:** Organize the final data into a clean markdown table.\n",
      "9.  **`[Final Output]`:** Present the formatted table to the user.\n",
      "\n",
      "### **The Double-Edged Sword: Promise and Peril**\n",
      "\n",
      "The potential of agentic AI is immense, but it comes with significant challenges that we must navigate responsibly.\n",
      "\n",
      "#### **The Promise: A Future of Amplified Capability**\n",
      "\n",
      "*   **Hyper-Productivity:** Imagine agents automating entire digital workflows—running marketing campaigns, debugging code, performing complex data analysis, and managing your calendar, all with a single high-level instruction.\n",
      "*   **Scientific Acceleration:** AI agents could autonomously design experiments, sift through massive datasets to find patterns, and even formulate novel scientific hypotheses, dramatically speeding up the pace of discovery.\n",
      "*   **Radical Personalization:** A truly personal assistant that understands your unique goals and preferences could manage your finances, optimize your health and fitness routines, and plan your education, acting as a life-long collaborator.\n",
      "\n",
      "#### **The Peril: Challenges and Ethical Guardrails**\n",
      "\n",
      "*   **Safety & Alignment:** How do we ensure an autonomous agent's goals remain aligned with our own? This is the classic \"Sorcerer's Apprentice\" problem: an agent, told to fetch water, might flood the entire castle because it was never told when to stop. Preventing unintended, harmful actions is a paramount concern.\n",
      "*   **Security:** An agent with access to your email, bank accounts, and code repositories is an incredibly powerful tool. But what happens if it gets hacked? Securing these systems is a critical challenge.\n",
      "*   **Job Displacement:** While some jobs will be augmented, others, particularly those involving repetitive cognitive tasks, could be automated on a massive scale, posing a significant societal and economic challenge.\n",
      "*   **The \"Hallucination\" Problem:** LLMs can sometimes generate confident but incorrect information. When an agent *acts* on this false information—like booking a flight to the wrong city or making a stock trade based on a fake news report—the consequences can be far more severe than just a wrong answer in a chat window.\n",
      "\n",
      "### **The Horizon: What's Next for Agentic AI?**\n",
      "\n",
      "This field is evolving at a breathtaking pace. Here's a glimpse of what's next:\n",
      "\n",
      "*   **Embodied Agents:** The principles of agentic AI are moving from the digital to the physical world. Companies like Figure AI and Boston Dynamics are building humanoid robots powered by AI agents, enabling them to perform complex tasks in warehouses, labs, and eventually, our homes.\n",
      "*   **Increasing Autonomy:** We will see agents that require less and less human oversight, capable of operating for longer durations on more abstract and complex goals.\n",
      "*   **The Path to AGI:** Many researchers believe that developing sophisticated, autonomous, multi-skilled agents is a critical stepping stone on the path toward Artificial General Intelligence (AGI)—AI that can perform any intellectual task a human can.\n",
      "*   **Societal Integration:** We will need to develop new norms, laws, and infrastructure to manage a world where we collaborate and coexist with a vast population of both human and AI agents.\n",
      "\n",
      "### **Conclusion: We're Not Just Building Tools Anymore**\n",
      "\n",
      "Agentic AI marks the critical evolution of artificial intelligence from a passive information processor to an active participant in our digital and physical worlds. We've journeyed from the rigid **rule-followers** of the past, through the hyper-specialized **learners** of the last decade, to the flexible and general-purpose **autonomous reasoners** of today.\n",
      "\n",
      "The central question is no longer just \"What can AI know?\" but **\"What can AI *do*?\"** As we learn to delegate more complex tasks and decisions to these autonomous systems, our own role will inevitably shift—from operator to supervisor, from prompter to collaborator, and, most importantly, from task-doer to goal-setter. The agentic revolution is just beginning.\n",
      "\n",
      "---\n",
      "\n",
      "***What are your thoughts on agentic AI? What industry do you think will be transformed the most? Share your ideas in the comments below!***\n"
     ]
    }
   ],
   "source": [
    "initial_state = {'title':'agentic ai as evolving feild'}\n",
    "final_state=workflow.invoke(initial_state)\n",
    "print(final_state['content'])"
   ]
  },
  {
   "cell_type": "code",
   "execution_count": null,
   "id": "aac8ea17",
   "metadata": {},
   "outputs": [],
   "source": []
  }
 ],
 "metadata": {
  "kernelspec": {
   "display_name": "myenv",
   "language": "python",
   "name": "python3"
  },
  "language_info": {
   "codemirror_mode": {
    "name": "ipython",
    "version": 3
   },
   "file_extension": ".py",
   "mimetype": "text/x-python",
   "name": "python",
   "nbconvert_exporter": "python",
   "pygments_lexer": "ipython3",
   "version": "3.13.3"
  }
 },
 "nbformat": 4,
 "nbformat_minor": 5
}
