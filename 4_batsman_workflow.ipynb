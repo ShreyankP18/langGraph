{
 "cells": [
  {
   "cell_type": "code",
   "execution_count": 1,
   "id": "98f6d9c9",
   "metadata": {},
   "outputs": [],
   "source": [
    "from langgraph.graph import StateGraph,START,END\n",
    "from typing import TypedDict\n",
    "from dotenv import load_dotenv"
   ]
  },
  {
   "cell_type": "code",
   "execution_count": 2,
   "id": "d25765d7",
   "metadata": {},
   "outputs": [],
   "source": [
    "class BatsmanState(TypedDict):\n",
    "    runs: int\n",
    "    balls: int \n",
    "    fours: int\n",
    "    sixes: int\n",
    "\n",
    "\n",
    "    #Strike Rate : sr , Balls per Boundary : bpb , Boundary Percentage : boundary_percents\n",
    "    sr: float\n",
    "    bpb: float\n",
    "    boundary_percent: float\n",
    "    summary: str\n"
   ]
  },
  {
   "cell_type": "code",
   "execution_count": 3,
   "id": "37ba11ed",
   "metadata": {},
   "outputs": [],
   "source": [
    "def calculate_sr(state:BatsmanState):\n",
    "    sr = (state['runs']/state['balls'])*100\n",
    "    state['sr'] = sr\n",
    "    return {'sr': sr}"
   ]
  },
  {
   "cell_type": "code",
   "execution_count": 4,
   "id": "2d76f577",
   "metadata": {},
   "outputs": [],
   "source": [
    "def calculate_bpb(state:BatsmanState):\n",
    "    bpb = state['balls']/(state['fours']+state['sixes'])\n",
    "    state['bpb'] = bpb\n",
    "    return {'bpb': bpb}"
   ]
  },
  {
   "cell_type": "code",
   "execution_count": 5,
   "id": "c122f9de",
   "metadata": {},
   "outputs": [],
   "source": [
    "def calculate_boundary_percent(state:BatsmanState)->BatsmanState:\n",
    "    boundary_percent = (((state[ 'fours'] * 4) + (state['sixes'] * 6))/ state['runs']) * 100\n",
    "    state['boundary_percent'] = boundary_percent\n",
    "    return {'boundary_percent': boundary_percent}"
   ]
  },
  {
   "cell_type": "code",
   "execution_count": 6,
   "id": "a3157d64",
   "metadata": {},
   "outputs": [],
   "source": [
    "def summary(state:BatsmanState):\n",
    "    summary = f\"\"\"\n",
    "Strike Rate - {state['sr']} \\n\n",
    "Ball per Boundary - {state['bpb']} \\n\n",
    "Boundary Percent - {state['boundary_percent']}\n",
    "\"\"\"\n",
    "    \n",
    "    state['summary'] = summary\n",
    "    return {'summary':summary}"
   ]
  },
  {
   "cell_type": "code",
   "execution_count": 7,
   "id": "c241e2ac",
   "metadata": {},
   "outputs": [],
   "source": [
    "graph = StateGraph(BatsmanState)\n",
    "\n",
    "graph.add_node('calculate_sr',calculate_sr)\n",
    "graph.add_node('calculate_bpb',calculate_bpb)\n",
    "graph.add_node('calculate_boundary_percent',calculate_boundary_percent)\n",
    "graph.add_node('summary',summary)\n",
    "\n",
    "graph.add_edge(START,'calculate_sr')\n",
    "graph.add_edge(START,'calculate_bpb')\n",
    "graph.add_edge(START,'calculate_boundary_percent')\n",
    "\n",
    "graph.add_edge('calculate_sr','summary')\n",
    "graph.add_edge('calculate_bpb','summary')\n",
    "graph.add_edge('calculate_boundary_percent','summary')\n",
    "\n",
    "graph.add_edge('summary',END)\n",
    "\n",
    "workflow = graph.compile()"
   ]
  },
  {
   "cell_type": "code",
   "execution_count": 8,
   "id": "f4dd75fc",
   "metadata": {},
   "outputs": [
    {
     "data": {
      "image/png": "[encoded data removed]",
      "text/plain": [
       "<IPython.core.display.Image object>"
      ]
     },
     "execution_count": 8,
     "metadata": {},
     "output_type": "execute_result"
    }
   ],
   "source": [
    "#to visualize the  updated graph use \n",
    "from IPython.display import Image\n",
    "Image(workflow.get_graph().draw_mermaid_png())"
   ]
  },
  {
   "cell_type": "code",
   "execution_count": 9,
   "id": "63813d44",
   "metadata": {},
   "outputs": [],
   "source": [
    "initial_state = {\n",
    "    'runs':100,\n",
    "    'balls':50,\n",
    "    'fours':6,\n",
    "    'sixes':4\n",
    "\n",
    "}\n",
    "\n",
    "final_state = workflow.invoke(initial_state)\n"
   ]
  },
  {
   "cell_type": "code",
   "execution_count": 10,
   "id": "c8e27f95",
   "metadata": {},
   "outputs": [
    {
     "name": "stdout",
     "output_type": "stream",
     "text": [
      "{'runs': 100, 'balls': 50, 'fours': 6, 'sixes': 4, 'sr': 200.0, 'bpb': 5.0, 'boundary_percent': 48.0, 'summary': '\\nStrike Rate - 200.0 \\n\\nBall per Boundary - 5.0 \\n\\nBoundary Percent - 48.0\\n'}\n"
     ]
    }
   ],
   "source": [
    "print(final_state)"
   ]
  }
 ],
 "metadata": {
  "kernelspec": {
   "display_name": "myenv",
   "language": "python",
   "name": "python3"
  },
  "language_info": {
   "codemirror_mode": {
    "name": "ipython",
    "version": 3
   },
   "file_extension": ".py",
   "mimetype": "text/x-python",
   "name": "python",
   "nbconvert_exporter": "python",
   "pygments_lexer": "ipython3",
   "version": "3.13.3"
  }
 },
 "nbformat": 4,
 "nbformat_minor": 5
}
