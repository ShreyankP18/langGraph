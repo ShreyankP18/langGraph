{
 "cells": [
  {
   "cell_type": "code",
   "execution_count": 7,
   "id": "4ed34173",
   "metadata": {},
   "outputs": [],
   "source": [
    "from langgraph.graph import StateGraph,START,END\n",
    "from langchain_google_genai import ChatGoogleGenerativeAI\n",
    "from typing import TypedDict\n",
    "from dotenv import load_dotenv"
   ]
  },
  {
   "cell_type": "code",
   "execution_count": 4,
   "id": "7b77085d",
   "metadata": {},
   "outputs": [
    {
     "data": {
      "text/plain": [
       "True"
      ]
     },
     "execution_count": 4,
     "metadata": {},
     "output_type": "execute_result"
    }
   ],
   "source": [
    "load_dotenv()"
   ]
  },
  {
   "cell_type": "code",
   "execution_count": 5,
   "id": "4ab686cb",
   "metadata": {},
   "outputs": [],
   "source": [
    "model = ChatGoogleGenerativeAI(model='gemini-2.5-pro')"
   ]
  },
  {
   "cell_type": "code",
   "execution_count": 6,
   "id": "f038a080",
   "metadata": {},
   "outputs": [],
   "source": [
    "#create state\n",
    "\n",
    "class LLMState(TypedDict):\n",
    "\n",
    "    question: str\n",
    "    answer: str"
   ]
  },
  {
   "cell_type": "code",
   "execution_count": 11,
   "id": "29fd6587",
   "metadata": {},
   "outputs": [],
   "source": [
    "def llm_qa(state: LLMState)->LLMState:\n",
    "    #extract the question from state \n",
    "    question = state['question']\n",
    "\n",
    "    #form a prompt\n",
    "    prompt = f'answer the following {question}'\n",
    "\n",
    "    #ask that question to LLM\n",
    "    answer = model.invoke(prompt).content\n",
    "\n",
    "    #update the answer in the state \n",
    "    state['answer'] = answer\n",
    "\n",
    "    return state"
   ]
  },
  {
   "cell_type": "code",
   "execution_count": 13,
   "id": "3a48fbdf",
   "metadata": {},
   "outputs": [],
   "source": [
    "#create our graph\n",
    "graph = StateGraph(LLMState)\n",
    "\n",
    "#add node\n",
    "graph.add_node('llm_qa',llm_qa)\n",
    "\n",
    "#add edges\n",
    "graph.add_edge(START,'llm_qa')\n",
    "graph.add_edge('llm_qa',END)\n",
    "\n",
    "#compile\n",
    "workflow = graph.compile()"
   ]
  },
  {
   "cell_type": "code",
   "execution_count": 14,
   "id": "513dc404",
   "metadata": {},
   "outputs": [
    {
     "data": {
      "image/png": "[encoded data removed]",
      "text/plain": [
       "<IPython.core.display.Image object>"
      ]
     },
     "execution_count": 14,
     "metadata": {},
     "output_type": "execute_result"
    }
   ],
   "source": [
    "#to visualize the  updated graph use \n",
    "from IPython.display import Image\n",
    "Image(workflow.get_graph().draw_mermaid_png())"
   ]
  },
  {
   "cell_type": "code",
   "execution_count": 16,
   "id": "9dbcc799",
   "metadata": {},
   "outputs": [
    {
     "name": "stdout",
     "output_type": "stream",
     "text": [
      "Of course! Here is the answer, broken down from a simple summary to more detailed information.\n",
      "\n",
      "### The Simple Answer\n",
      "\n",
      "The **average distance** from the Earth to the Moon is about **238,855 miles (384,400 kilometers)**.\n",
      "\n",
      "You could fit about 30 Earth-sized planets in the space between the Earth and the Moon.\n",
      "\n",
      "---\n",
      "\n",
      "### The Detailed Answer\n",
      "\n",
      "The distance is not constant because the Moon's orbit around the Earth is not a perfect circle; it's an ellipse (an oval shape). This means the distance varies throughout its orbit.\n",
      "\n",
      "Here are the key distances:\n",
      "\n",
      "*   **Perigee (Closest Point):** The Moon is about **226,000 miles (363,300 km)** away from Earth. When a full moon occurs at this point, it is often called a \"Supermoon\" because it appears slightly larger and brighter in the sky.\n",
      "\n",
      "*   **Apogee (Farthest Point):** The Moon is about **252,000 miles (405,500 km)** away from Earth. A full moon at this point is sometimes called a \"Micromoon.\"\n",
      "\n",
      "### Fun Fact: The Moon is Moving Away!\n",
      "\n",
      "The Moon is slowly drifting away from Earth at a rate of about **1.5 inches (3.8 centimeters) per year**. This is caused by the transfer of energy from the Earth's rotation to the Moon through tides. Millions of years from now, the Moon will appear noticeably smaller in our sky.\n",
      "\n",
      "### Putting the Distance in Perspective\n",
      "\n",
      "To help you visualize how far away the Moon is:\n",
      "\n",
      "*   **By Car:** If you could drive a car at a constant 60 mph (97 km/h), it would take you about **166 days** to reach the Moon.\n",
      "*   **By Apollo Spacecraft:** It took the Apollo astronauts about **3 days** to travel to the Moon.\n",
      "*   **By Light:** It takes light about **1.3 seconds** to travel from the Moon to the Earth.\n"
     ]
    }
   ],
   "source": [
    "#execute\n",
    "intial_state = {'question': 'How far is the moon from earth?'}\n",
    "final_state = workflow.invoke(intial_state)\n",
    "print(final_state['answer'])"
   ]
  },
  {
   "cell_type": "code",
   "execution_count": null,
   "id": "c3cf533a",
   "metadata": {},
   "outputs": [],
   "source": []
  }
 ],
 "metadata": {
  "kernelspec": {
   "display_name": "myenv",
   "language": "python",
   "name": "python3"
  },
  "language_info": {
   "codemirror_mode": {
    "name": "ipython",
    "version": 3
   },
   "file_extension": ".py",
   "mimetype": "text/x-python",
   "name": "python",
   "nbconvert_exporter": "python",
   "pygments_lexer": "ipython3",
   "version": "3.13.3"
  }
 },
 "nbformat": 4,
 "nbformat_minor": 5
}
