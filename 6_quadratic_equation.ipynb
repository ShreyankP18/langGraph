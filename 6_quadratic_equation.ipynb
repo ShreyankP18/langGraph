{
 "cells": [
  {
   "cell_type": "code",
   "execution_count": 29,
   "id": "d5a03563",
   "metadata": {},
   "outputs": [],
   "source": [
    "from langgraph.graph import StateGraph,START,END\n",
    "from typing import TypedDict , Literal\n",
    "import math"
   ]
  },
  {
   "cell_type": "code",
   "execution_count": 30,
   "id": "c2ae79f1",
   "metadata": {},
   "outputs": [],
   "source": [
    "class QuadState(TypedDict):\n",
    "\n",
    "    a: int\n",
    "    b: int\n",
    "    c: int\n",
    "    equation: str\n",
    "    discriminant: float\n",
    "    result: str"
   ]
  },
  {
   "cell_type": "code",
   "execution_count": 51,
   "id": "11c31acc",
   "metadata": {},
   "outputs": [],
   "source": [
    "def show_equation(state: QuadState):\n",
    "    equation = f\"{state['a']}x² + {state['b']}x + {state['c']} = 0\"\n",
    "    return {'equation':equation}\n"
   ]
  },
  {
   "cell_type": "code",
   "execution_count": 46,
   "id": "e6047d24",
   "metadata": {},
   "outputs": [],
   "source": [
    "def calculate_discriminant(state: QuadState):\n",
    "    discriminant = (state['b']**2)-(4*state['a']*state['c'])\n",
    "    return {'discriminant':discriminant}"
   ]
  },
  {
   "cell_type": "code",
   "execution_count": 47,
   "id": "d64dd217",
   "metadata": {},
   "outputs": [],
   "source": [
    "\n",
    "def real_roots(state: QuadState):\n",
    "        root1 = (-state['b'] + math.sqrt(state['discriminant'])) / (2*state['a'])\n",
    "        root2 = (-state['b'] - math.sqrt(state['discriminant'])) / (2*state['a'])\n",
    "        \n",
    "        return {'result':f'Two real roots:{root1},{root2}'}"
   ]
  },
  {
   "cell_type": "code",
   "execution_count": 48,
   "id": "957693df",
   "metadata": {},
   "outputs": [],
   "source": [
    "def no_real_roots(state: QuadState):\n",
    "        real = -state['b'] / (2*state['a'])\n",
    "        imag = math.sqrt(-state['dicriminant']) / (2*state['a'])\n",
    "        root1 = f\"{real} + {imag}i\"\n",
    "        root2 = f\"{real} - {imag}i\"\n",
    "        return {'result': f'Two complex roots: {root1}, {root2}'}"
   ]
  },
  {
   "cell_type": "code",
   "execution_count": 49,
   "id": "b8f1ab6d",
   "metadata": {},
   "outputs": [],
   "source": [
    "def repeated_roots(state: QuadState):\n",
    "    if state['dicriminant'] == 0:\n",
    "        root = -state['b'] / (2 * state['a'])\n",
    "        return {'result': f'One real root: {root}'}"
   ]
  },
  {
   "cell_type": "code",
   "execution_count": 50,
   "id": "6f71e196",
   "metadata": {},
   "outputs": [],
   "source": [
    "def check_condition(state: QuadState) -> Literal['real_roots','repeated_roots','no_real_roots']:\n",
    "    if state['discriminant'] > 0:\n",
    "        return \"real_roots\"\n",
    "    elif state['discriminant'] < 0:\n",
    "        return \"no_real_roots\"\n",
    "    else:\n",
    "        return \"repeated_roots\""
   ]
  },
  {
   "cell_type": "code",
   "execution_count": 54,
   "id": "9382ce0a",
   "metadata": {},
   "outputs": [],
   "source": [
    "graph = StateGraph(QuadState)\n",
    "\n",
    "graph.add_node('show_equation',show_equation)\n",
    "graph.add_node('calculate_discriminant',calculate_discriminant)\n",
    "graph.add_node('real_roots',real_roots)\n",
    "graph.add_node('no_real_roots',no_real_roots)\n",
    "graph.add_node('repeated_roots',repeated_roots)\n",
    "\n",
    "\n",
    "\n",
    "graph.add_edge(START,'show_equation')\n",
    "graph.add_edge('show_equation','calculate_discriminant')\n",
    "\n",
    "graph.add_conditional_edges('calculate_discriminant',check_condition)\n",
    "graph.add_edge('real_roots',END)\n",
    "graph.add_edge('repeated_roots',END)\n",
    "graph.add_edge('no_real_roots',END)\n",
    "\n",
    "workflow = graph.compile()\n"
   ]
  },
  {
   "cell_type": "code",
   "execution_count": 55,
   "id": "27141da8",
   "metadata": {},
   "outputs": [
    {
     "data": {
      "image/png": "[encoded data removed]",
      "text/plain": [
       "<langgraph.graph.state.CompiledStateGraph object at 0x000001B239B5AFD0>"
      ]
     },
     "execution_count": 55,
     "metadata": {},
     "output_type": "execute_result"
    }
   ],
   "source": [
    "workflow"
   ]
  },
  {
   "cell_type": "code",
   "execution_count": 57,
   "id": "21e3f57f",
   "metadata": {},
   "outputs": [],
   "source": [
    "initial_state = {\n",
    "    'a':4,\n",
    "    'b':-5,\n",
    "    'c':-4\n",
    "}\n",
    "result = workflow.invoke(initial_state)"
   ]
  },
  {
   "cell_type": "code",
   "execution_count": 62,
   "id": "5a0d2ff1",
   "metadata": {},
   "outputs": [
    {
     "name": "stdout",
     "output_type": "stream",
     "text": [
      "4x² + -5x + -4 = 0\n",
      "Two real roots:1.8042476415070754,-0.5542476415070754\n"
     ]
    }
   ],
   "source": [
    "print(result['equation'])\n",
    "print(result['result'])\n"
   ]
  },
  {
   "cell_type": "code",
   "execution_count": null,
   "id": "f4fb25ba",
   "metadata": {},
   "outputs": [],
   "source": []
  }
 ],
 "metadata": {
  "kernelspec": {
   "display_name": "myenv",
   "language": "python",
   "name": "python3"
  },
  "language_info": {
   "codemirror_mode": {
    "name": "ipython",
    "version": 3
   },
   "file_extension": ".py",
   "mimetype": "text/x-python",
   "name": "python",
   "nbconvert_exporter": "python",
   "pygments_lexer": "ipython3",
   "version": "3.13.3"
  }
 },
 "nbformat": 4,
 "nbformat_minor": 5
}
