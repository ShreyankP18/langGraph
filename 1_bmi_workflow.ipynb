{
 "cells": [
  {
   "cell_type": "code",
   "execution_count": 6,
   "id": "34544bdc",
   "metadata": {},
   "outputs": [],
   "source": [
    "from langgraph.graph import StateGraph,START,END\n",
    "from typing import TypedDict"
   ]
  },
  {
   "cell_type": "code",
   "execution_count": 4,
   "id": "f7cc6457",
   "metadata": {},
   "outputs": [],
   "source": [
    "#define state\n",
    "class BMIState(TypedDict):\n",
    "    weight_kg: float\n",
    "    height_m: float\n",
    "    bmi: float"
   ]
  },
  {
   "cell_type": "code",
   "execution_count": 5,
   "id": "0849cdbd",
   "metadata": {},
   "outputs": [],
   "source": [
    "def calculate_bmi(state: BMIState) -> BMIState:\n",
    "    weight = state['weight_kg']\n",
    "    height = state['height_m']\n",
    "\n",
    "    bmi = weight/(height**2)\n",
    "\n",
    "    state['bmi'] = round(bmi,2)\n",
    "\n",
    "    return state"
   ]
  },
  {
   "cell_type": "code",
   "execution_count": 8,
   "id": "70a35ff8",
   "metadata": {},
   "outputs": [],
   "source": [
    "#define graph\n",
    "graph = StateGraph(BMIState)\n",
    "\n",
    "#add node to graph\n",
    "graph.add_node('calculate_bmi',calculate_bmi)\n",
    "\n",
    "#add edges to graph\n",
    "graph.add_edge(START,'calculate_bmi')\n",
    "graph.add_edge('calculate_bmi',END)\n",
    "\n",
    "#compile the graph\n",
    "workflow = graph.compile()\n"
   ]
  },
  {
   "cell_type": "code",
   "execution_count": null,
   "id": "e0a49faa",
   "metadata": {},
   "outputs": [
    {
     "name": "stdout",
     "output_type": "stream",
     "text": [
      "{'weight_kg': 80, 'height_m': 1.73, 'bmi': 26.73}\n"
     ]
    }
   ],
   "source": [
    "#execute the graph\n",
    "initial_state = {'weight_kg':80,'height_m':1.73}\n",
    "final_state = workflow.invoke(initial_state)\n",
    "print(final_state)"
   ]
  },
  {
   "cell_type": "code",
   "execution_count": 12,
   "id": "283eed02",
   "metadata": {},
   "outputs": [
    {
     "data": {
      "image/png": "[encoded data removed]",
      "text/plain": [
       "<IPython.core.display.Image object>"
      ]
     },
     "execution_count": 12,
     "metadata": {},
     "output_type": "execute_result"
    }
   ],
   "source": [
    "#to visualize the graph use \n",
    "from IPython.display import Image\n",
    "Image(workflow.get_graph().draw_mermaid_png())"
   ]
  },
  {
   "cell_type": "code",
   "execution_count": 14,
   "id": "30a2adb9",
   "metadata": {},
   "outputs": [],
   "source": [
    "#now as our basic graph comleted , now let also tell on the\n",
    "#basis of bmi calculated tell wheather the person is fit , overweight , obese\n",
    "# START->calculate_bmi->label_bmi->END"
   ]
  },
  {
   "cell_type": "code",
   "execution_count": 15,
   "id": "27f5cd6b",
   "metadata": {},
   "outputs": [],
   "source": [
    "#define state\n",
    "class BMIState_adv(TypedDict):\n",
    "    weight_kg: float\n",
    "    height_m: float\n",
    "    bmi: float\n",
    "    category: str"
   ]
  },
  {
   "cell_type": "code",
   "execution_count": 17,
   "id": "e3f82773",
   "metadata": {},
   "outputs": [],
   "source": [
    "def label_bmi(state:BMIState_adv) -> BMIState_adv:\n",
    "        bmi = state[bmi]\n",
    "        if bmi < 18.5:\n",
    "                state[\"category\"] = \"Underweight\"\n",
    "        elif 18.5 <= bmi < 25:\n",
    "                state[\"category\"] = \"Normal\"\n",
    "        elif 25 <= bmi < 30:\n",
    "                state [\"category\"] = \"Overweight\"\n",
    "        else:\n",
    "                state[\"category\"] = \"Obese\"\n",
    "        return state\n"
   ]
  },
  {
   "cell_type": "code",
   "execution_count": 18,
   "id": "a0d0f73b",
   "metadata": {},
   "outputs": [],
   "source": [
    "#define graph\n",
    "graph = StateGraph(BMIState_adv)\n",
    "\n",
    "#add node to graph\n",
    "graph.add_node('calculate_bmi',calculate_bmi)\n",
    "graph.add_node('label_bmi',label_bmi)\n",
    "\n",
    "#add edges to graph\n",
    "graph.add_edge(START,'calculate_bmi')\n",
    "graph.add_edge('calculate_bmi','label_bmi')\n",
    "graph.add_edge('label_bmi',END)\n",
    "\n",
    "#compile the graph\n",
    "workflow = graph.compile()\n"
   ]
  },
  {
   "cell_type": "code",
   "execution_count": 19,
   "id": "f84830ba",
   "metadata": {},
   "outputs": [
    {
     "data": {
      "image/png": "[encoded data removed]",
      "text/plain": [
       "<IPython.core.display.Image object>"
      ]
     },
     "execution_count": 19,
     "metadata": {},
     "output_type": "execute_result"
    }
   ],
   "source": [
    "#to visualize the  updated graph use \n",
    "from IPython.display import Image\n",
    "Image(workflow.get_graph().draw_mermaid_png())"
   ]
  },
  {
   "cell_type": "code",
   "execution_count": null,
   "id": "0030744f",
   "metadata": {},
   "outputs": [],
   "source": []
  }
 ],
 "metadata": {
  "kernelspec": {
   "display_name": "myenv",
   "language": "python",
   "name": "python3"
  },
  "language_info": {
   "codemirror_mode": {
    "name": "ipython",
    "version": 3
   },
   "file_extension": ".py",
   "mimetype": "text/x-python",
   "name": "python",
   "nbconvert_exporter": "python",
   "pygments_lexer": "ipython3",
   "version": "3.13.3"
  }
 },
 "nbformat": 4,
 "nbformat_minor": 5
}
